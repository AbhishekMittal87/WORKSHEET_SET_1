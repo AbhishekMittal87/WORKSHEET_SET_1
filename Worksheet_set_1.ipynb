{
 "cells": [
  {
   "cell_type": "markdown",
   "id": "81969226",
   "metadata": {},
   "source": [
    "#1 Which of the following operators is used to calculate remainder in a division?"
   ]
  },
  {
   "cell_type": "code",
   "execution_count": 1,
   "id": "5ae236a6",
   "metadata": {},
   "outputs": [
    {
     "data": {
      "text/plain": [
       "1"
      ]
     },
     "execution_count": 1,
     "metadata": {},
     "output_type": "execute_result"
    }
   ],
   "source": [
    "7%2"
   ]
  },
  {
   "cell_type": "markdown",
   "id": "000179f8",
   "metadata": {},
   "source": [
    "#2 In python 2//3 is equal to?"
   ]
  },
  {
   "cell_type": "code",
   "execution_count": 2,
   "id": "19f461e6",
   "metadata": {},
   "outputs": [
    {
     "data": {
      "text/plain": [
       "0"
      ]
     },
     "execution_count": 2,
     "metadata": {},
     "output_type": "execute_result"
    }
   ],
   "source": [
    "2//3"
   ]
  },
  {
   "cell_type": "markdown",
   "id": "e300053f",
   "metadata": {},
   "source": [
    "#3 In python, 6<<2 is equal to?"
   ]
  },
  {
   "cell_type": "code",
   "execution_count": 3,
   "id": "ba9741d7",
   "metadata": {},
   "outputs": [
    {
     "data": {
      "text/plain": [
       "24"
      ]
     },
     "execution_count": 3,
     "metadata": {},
     "output_type": "execute_result"
    }
   ],
   "source": [
    "6<<2"
   ]
  },
  {
   "cell_type": "markdown",
   "id": "3cda4c49",
   "metadata": {},
   "source": [
    "#4 In python, 6&2 will give which of the following as output?"
   ]
  },
  {
   "cell_type": "code",
   "execution_count": 4,
   "id": "c02eba01",
   "metadata": {},
   "outputs": [
    {
     "data": {
      "text/plain": [
       "2"
      ]
     },
     "execution_count": 4,
     "metadata": {},
     "output_type": "execute_result"
    }
   ],
   "source": [
    "6&2"
   ]
  },
  {
   "cell_type": "markdown",
   "id": "6fcf4213",
   "metadata": {},
   "source": [
    "#5 In python, 6|2 will give which of the following as output?"
   ]
  },
  {
   "cell_type": "code",
   "execution_count": 5,
   "id": "c3252936",
   "metadata": {},
   "outputs": [
    {
     "data": {
      "text/plain": [
       "6"
      ]
     },
     "execution_count": 5,
     "metadata": {},
     "output_type": "execute_result"
    }
   ],
   "source": [
    "6|2"
   ]
  },
  {
   "cell_type": "markdown",
   "id": "0337aed0",
   "metadata": {},
   "source": [
    "#6 what does the finally keyword denotes in python?"
   ]
  },
  {
   "cell_type": "code",
   "execution_count": 1,
   "id": "10e01332",
   "metadata": {},
   "outputs": [
    {
     "ename": "SyntaxError",
     "evalue": "invalid syntax (2688355046.py, line 1)",
     "output_type": "error",
     "traceback": [
      "\u001b[1;36m  Input \u001b[1;32mIn [1]\u001b[1;36m\u001b[0m\n\u001b[1;33m    the finally block will be executed no matter if the try block raises an error or not.\u001b[0m\n\u001b[1;37m        ^\u001b[0m\n\u001b[1;31mSyntaxError\u001b[0m\u001b[1;31m:\u001b[0m invalid syntax\n"
     ]
    }
   ],
   "source": [
    "C)the finally block will be executed no matter if the try block raises an error or not."
   ]
  },
  {
   "cell_type": "markdown",
   "id": "2891e274",
   "metadata": {},
   "source": [
    "#7 What does raise keyword is used for in python?"
   ]
  },
  {
   "cell_type": "code",
   "execution_count": 3,
   "id": "97932173",
   "metadata": {},
   "outputs": [
    {
     "ename": "SyntaxError",
     "evalue": "invalid syntax (3065236975.py, line 1)",
     "output_type": "error",
     "traceback": [
      "\u001b[1;36m  Input \u001b[1;32mIn [3]\u001b[1;36m\u001b[0m\n\u001b[1;33m    It is used to raise an exception.\u001b[0m\n\u001b[1;37m               ^\u001b[0m\n\u001b[1;31mSyntaxError\u001b[0m\u001b[1;31m:\u001b[0m invalid syntax\n"
     ]
    }
   ],
   "source": [
    "A)It is used to raise an exception."
   ]
  },
  {
   "cell_type": "markdown",
   "id": "df754349",
   "metadata": {},
   "source": [
    "#8 Which of the following is a common use case of yield keyword in python?"
   ]
  },
  {
   "cell_type": "code",
   "execution_count": 6,
   "id": "d98f2ce5",
   "metadata": {},
   "outputs": [
    {
     "ename": "SyntaxError",
     "evalue": "unmatched ')' (344182396.py, line 1)",
     "output_type": "error",
     "traceback": [
      "\u001b[1;36m  Input \u001b[1;32mIn [6]\u001b[1;36m\u001b[0m\n\u001b[1;33m    C)in defining generator\u001b[0m\n\u001b[1;37m     ^\u001b[0m\n\u001b[1;31mSyntaxError\u001b[0m\u001b[1;31m:\u001b[0m unmatched ')'\n"
     ]
    }
   ],
   "source": [
    "C)in defining generator"
   ]
  },
  {
   "cell_type": "markdown",
   "id": "54927afe",
   "metadata": {},
   "source": [
    "#9 Which of the following are the valid variable names?"
   ]
  },
  {
   "cell_type": "code",
   "execution_count": 8,
   "id": "7cca71be",
   "metadata": {},
   "outputs": [
    {
     "ename": "SyntaxError",
     "evalue": "unmatched ')' (3650848083.py, line 1)",
     "output_type": "error",
     "traceback": [
      "\u001b[1;36m  Input \u001b[1;32mIn [8]\u001b[1;36m\u001b[0m\n\u001b[1;33m    A)_abc, B)1abc, C) abc2\u001b[0m\n\u001b[1;37m     ^\u001b[0m\n\u001b[1;31mSyntaxError\u001b[0m\u001b[1;31m:\u001b[0m unmatched ')'\n"
     ]
    }
   ],
   "source": [
    "A)_abc, B)1abc, C) abc2"
   ]
  },
  {
   "cell_type": "markdown",
   "id": "1a0e6857",
   "metadata": {},
   "source": [
    "#10 Which of the following are the keywords in python?"
   ]
  },
  {
   "cell_type": "code",
   "execution_count": null,
   "id": "ad3cd160",
   "metadata": {},
   "outputs": [],
   "source": [
    "A)yield, B)raise "
   ]
  },
  {
   "cell_type": "markdown",
   "id": "91918cd3",
   "metadata": {},
   "source": [
    "#11 Write a python program to find the factorial of a number.\n"
   ]
  },
  {
   "cell_type": "code",
   "execution_count": 15,
   "id": "04885cc5",
   "metadata": {},
   "outputs": [
    {
     "name": "stdout",
     "output_type": "stream",
     "text": [
      "Enter a number: 5\n",
      "The factorial of the number is = 120\n"
     ]
    }
   ],
   "source": [
    "a = int(input(\"Enter a number: \")) \n",
    "f = 1 \n",
    "for i in range(1,a+1): \n",
    "    f = f * i \n",
    "print(f'The factorial of the number is = {f}') "
   ]
  },
  {
   "cell_type": "markdown",
   "id": "76666eba",
   "metadata": {},
   "source": [
    "#12 Write a python program to find whether a number is prime or composite."
   ]
  },
  {
   "cell_type": "code",
   "execution_count": 18,
   "id": "854315b3",
   "metadata": {},
   "outputs": [
    {
     "name": "stdout",
     "output_type": "stream",
     "text": [
      "Enter the number to check prime or composite: 7\n",
      "The number is prime number\n"
     ]
    }
   ],
   "source": [
    "num=int(input(\"Enter the number to check prime or composite: \"))\n",
    "count=0\n",
    "for i in range(2,int(num/2)+1):\n",
    "   if(num%i==0):\n",
    "       count=1\n",
    "if(count==0):\n",
    "   print(\"The number is prime number\")\n",
    "else:\n",
    "   print(\"The number is composite number\")"
   ]
  },
  {
   "cell_type": "markdown",
   "id": "2d87bcac",
   "metadata": {},
   "source": [
    "#14 Write a python program to check whether a given string is palindrome or not."
   ]
  },
  {
   "cell_type": "code",
   "execution_count": 20,
   "id": "f793a6ba",
   "metadata": {},
   "outputs": [
    {
     "name": "stdout",
     "output_type": "stream",
     "text": [
      "Yes\n"
     ]
    }
   ],
   "source": [
    "def isPalindrome(a):\n",
    "    return a == a[::-1]\n",
    "a = \"NAMAN\"\n",
    "ans = isPalindrome(a)\n",
    "if ans:\n",
    "    print(\"Yes\")\n",
    "else:\n",
    "    print(\"No\")"
   ]
  },
  {
   "cell_type": "code",
   "execution_count": 21,
   "id": "fbe0fb45",
   "metadata": {},
   "outputs": [
    {
     "name": "stdout",
     "output_type": "stream",
     "text": [
      "No\n"
     ]
    }
   ],
   "source": [
    "def isPalindrome(b):\n",
    "    return b == b[::-1]\n",
    "b = \"RAMAN\"\n",
    "ans = isPalindrome(b)\n",
    "if ans:\n",
    "    print(\"Yes\")\n",
    "else:\n",
    "    print(\"No\")"
   ]
  },
  {
   "cell_type": "markdown",
   "id": "f8a389df",
   "metadata": {},
   "source": [
    "#15 Write a Python program to get the third side of right-angled triangle from two given sides."
   ]
  },
  {
   "cell_type": "code",
   "execution_count": 33,
   "id": "df84aa29",
   "metadata": {},
   "outputs": [
    {
     "name": "stdout",
     "output_type": "stream",
     "text": [
      "Hypotenuse = 15.0\n"
     ]
    }
   ],
   "source": [
    "def pythagoras(opposite_side,adjacent_side,hypotenuse):\n",
    "        if opposite_side == str(\"x\"):\n",
    "            return (\"Opposite = \" + str(((hypotenuse**2) - (adjacent_side**2))**0.5))\n",
    "        elif adjacent_side == str(\"x\"):\n",
    "            return (\"Adjacent = \" + str(((hypotenuse**2) - (opposite_side**2))**0.5))\n",
    "        elif hypotenuse == str(\"x\"):\n",
    "            return (\"Hypotenuse = \" + str(((opposite_side**2) + (adjacent_side**2))**0.5)) \n",
    "print(pythagoras(9,12,'x'))"
   ]
  },
  {
   "cell_type": "code",
   "execution_count": 34,
   "id": "3976ebc3",
   "metadata": {},
   "outputs": [
    {
     "name": "stdout",
     "output_type": "stream",
     "text": [
      "Adjacent = 12.0\n"
     ]
    }
   ],
   "source": [
    "print(pythagoras(9,'x',15))"
   ]
  },
  {
   "cell_type": "code",
   "execution_count": 35,
   "id": "45ea147c",
   "metadata": {},
   "outputs": [
    {
     "name": "stdout",
     "output_type": "stream",
     "text": [
      "Opposite = 9.0\n"
     ]
    }
   ],
   "source": [
    "print(pythagoras('x', 12,15))"
   ]
  },
  {
   "cell_type": "code",
   "execution_count": 36,
   "id": "87062669",
   "metadata": {},
   "outputs": [
    {
     "name": "stdout",
     "output_type": "stream",
     "text": [
      "Hypotenuse = 15.0\n",
      "Adjacent = 12.0\n",
      "Opposite = 9.0\n"
     ]
    }
   ],
   "source": [
    "print(pythagoras(9,12,'x'))\n",
    "print(pythagoras(9,'x',15))\n",
    "print(pythagoras('x', 12,15))"
   ]
  },
  {
   "cell_type": "markdown",
   "id": "067c996b",
   "metadata": {},
   "source": [
    "#15 Write a python program to print the frequency of each of the characters present in a given string."
   ]
  },
  {
   "cell_type": "code",
   "execution_count": 40,
   "id": "163a7d99",
   "metadata": {},
   "outputs": [
    {
     "name": "stdout",
     "output_type": "stream",
     "text": [
      "Count of all characters in abhishek mittal is :\n",
      " {'a': 2, 'b': 1, 'h': 2, 'i': 2, 's': 1, 'e': 1, 'k': 1, ' ': 1, 'm': 1, 't': 2, 'l': 1}\n"
     ]
    }
   ],
   "source": [
    "test_str = \"abhishek mittal\"\n",
    "all_freq = {}\n",
    "for i in test_str:\n",
    "    if i in all_freq:\n",
    "        all_freq[i] += 1\n",
    "    else:\n",
    "        all_freq[i] = 1\n",
    "print (\"Count of all characters in abhishek mittal is :\\n \" + str(all_freq))"
   ]
  },
  {
   "cell_type": "code",
   "execution_count": null,
   "id": "93b89247",
   "metadata": {},
   "outputs": [],
   "source": []
  },
  {
   "cell_type": "code",
   "execution_count": null,
   "id": "3319069c",
   "metadata": {},
   "outputs": [],
   "source": []
  },
  {
   "cell_type": "code",
   "execution_count": null,
   "id": "221c065c",
   "metadata": {},
   "outputs": [],
   "source": []
  },
  {
   "cell_type": "code",
   "execution_count": null,
   "id": "6a607a91",
   "metadata": {},
   "outputs": [],
   "source": []
  },
  {
   "cell_type": "code",
   "execution_count": null,
   "id": "c3cc47f6",
   "metadata": {},
   "outputs": [],
   "source": []
  },
  {
   "cell_type": "code",
   "execution_count": null,
   "id": "2519dbc0",
   "metadata": {},
   "outputs": [],
   "source": []
  },
  {
   "cell_type": "code",
   "execution_count": null,
   "id": "ce058af5",
   "metadata": {},
   "outputs": [],
   "source": []
  },
  {
   "cell_type": "code",
   "execution_count": null,
   "id": "b771499b",
   "metadata": {},
   "outputs": [],
   "source": []
  },
  {
   "cell_type": "code",
   "execution_count": null,
   "id": "b60baf84",
   "metadata": {},
   "outputs": [],
   "source": []
  },
  {
   "cell_type": "code",
   "execution_count": null,
   "id": "32554dc7",
   "metadata": {},
   "outputs": [],
   "source": []
  },
  {
   "cell_type": "code",
   "execution_count": null,
   "id": "a70fa251",
   "metadata": {},
   "outputs": [],
   "source": []
  },
  {
   "cell_type": "code",
   "execution_count": null,
   "id": "3dd043ba",
   "metadata": {},
   "outputs": [],
   "source": []
  },
  {
   "cell_type": "code",
   "execution_count": null,
   "id": "2767973b",
   "metadata": {},
   "outputs": [],
   "source": []
  },
  {
   "cell_type": "code",
   "execution_count": null,
   "id": "b89a2c52",
   "metadata": {},
   "outputs": [],
   "source": []
  }
 ],
 "metadata": {
  "kernelspec": {
   "display_name": "Python 3 (ipykernel)",
   "language": "python",
   "name": "python3"
  },
  "language_info": {
   "codemirror_mode": {
    "name": "ipython",
    "version": 3
   },
   "file_extension": ".py",
   "mimetype": "text/x-python",
   "name": "python",
   "nbconvert_exporter": "python",
   "pygments_lexer": "ipython3",
   "version": "3.9.12"
  }
 },
 "nbformat": 4,
 "nbformat_minor": 5
}
